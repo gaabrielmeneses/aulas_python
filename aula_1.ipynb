{
 "cells": [
  {
   "cell_type": "markdown",
   "metadata": {},
   "source": [
    "## Python é uma linguagem fácil e dinâmica, com algumas características:\n",
    "- Portável: pode rodar em windows, mac e linux;\n",
    "- Interpretaviva: O interpretador irá ler o código;\n",
    "- Para fins gerais: posso utilizar para automatizar relatórios ou até mesmo construir um webapp;\n",
    "- Comunidade ativa e programadores no mundo todo;\n",
    "- Há várias linguagens que nos permite trabalhar com analise de dados, porém python vem ganhando espaço pelas suas constantes melhorias e pacotes de todos os segmentos;"
   ]
  },
  {
   "cell_type": "markdown",
   "metadata": {},
   "source": [
    "## Uma pergunta que frequente: Python é mesmo uma linguagem poderosa?\n",
    "- Um exemplo para demonstrar seu poder: www.nasa.gov foi feito em python\n",
    "- Python possui uma gama de bibliotecas para diversos fins devida a sua comunidade ativa no mundo inteiro.\n",
    "- A biblioteca que mais se utiliza para analise de dados e que iremos aprender nesse curso é a biblioteca Pandas.\n",
    "- Pandas fornece suporte para estruturas de dados e ferramentas de análise de dados. O Pandas otimiza muito a linguagem em termos de performance(velocidade de processamento), fazendo assim Python ganhar mercado"
   ]
  },
  {
   "cell_type": "markdown",
   "metadata": {},
   "source": [
    "## Bom, agora é preciso tratar de um conceito fundamental para o aprendizado da programação: O que é um algoritmo?\n",
    "- Entende-se por algoritmo qualquer sequência finita de passos que levam à execução de uma certa tarefa ou à resolução de um problema. Isso é aplicável em vários âmbitos do dia a dia.\n",
    "- Resumindo, é como se fosse uma receita de bolo.\n",
    "- Exercicio 1: Construa um passo a passo de alguma tarefa diária sua."
   ]
  },
  {
   "cell_type": "markdown",
   "metadata": {},
   "source": [
    "## O que são variáveis?\n",
    "- Uma variável é um espaço na memória do computador destinado a um dado que é alterado durante a execução do algoritmo.\n",
    "- Para funcionar corretamente, as variáveis precisam ser definidas por nomes e tipos.\n",
    "- Você pode imaginar que as variáveis são como “caixas” destinadas a guardar algo mutável ao longo do tempo. \n",
    "- Pense em uma aplicação que trabalha com vendas de bebidas. Cada uma terá um valor diferente, certo? Logo, cada bebida terá uma váriavel que irá guardar seu valor para algum cálculo futuro, como exemplo de um fechamento da conta de uma mesa.\n",
    "- Veja os diferentes tipos de dados:"
   ]
  },
  {
   "cell_type": "markdown",
   "metadata": {},
   "source": [
    "- Tipos de dados"
   ]
  },
  {
   "cell_type": "code",
   "execution_count": 1,
   "metadata": {},
   "outputs": [],
   "source": [
    "tipo_inteiro = 5\n",
    "tipo_string = 'Olá, Matheus'\n",
    "tipo_booleano = True\n",
    "tipo_float = 3.1415"
   ]
  },
  {
   "cell_type": "markdown",
   "metadata": {},
   "source": [
    "- Tipo inteiro:"
   ]
  },
  {
   "cell_type": "code",
   "execution_count": 2,
   "metadata": {},
   "outputs": [
    {
     "name": "stdout",
     "output_type": "stream",
     "text": [
      "5\n"
     ]
    }
   ],
   "source": [
    "print(tipo_inteiro)"
   ]
  },
  {
   "cell_type": "code",
   "execution_count": 3,
   "metadata": {},
   "outputs": [
    {
     "data": {
      "text/plain": [
       "int"
      ]
     },
     "execution_count": 3,
     "metadata": {},
     "output_type": "execute_result"
    }
   ],
   "source": [
    "type(tipo_inteiro)"
   ]
  },
  {
   "cell_type": "markdown",
   "metadata": {},
   "source": [
    "- Tipo str, string ou cadeia de caracteres:"
   ]
  },
  {
   "cell_type": "code",
   "execution_count": 4,
   "metadata": {},
   "outputs": [
    {
     "name": "stdout",
     "output_type": "stream",
     "text": [
      "Olá, Matheus\n"
     ]
    }
   ],
   "source": [
    "print(tipo_string)"
   ]
  },
  {
   "cell_type": "code",
   "execution_count": 5,
   "metadata": {},
   "outputs": [
    {
     "data": {
      "text/plain": [
       "str"
      ]
     },
     "execution_count": 5,
     "metadata": {},
     "output_type": "execute_result"
    }
   ],
   "source": [
    "type(tipo_string)"
   ]
  },
  {
   "cell_type": "markdown",
   "metadata": {},
   "source": [
    "- Tipo boolean ou lógico"
   ]
  },
  {
   "cell_type": "code",
   "execution_count": 6,
   "metadata": {},
   "outputs": [
    {
     "name": "stdout",
     "output_type": "stream",
     "text": [
      "True\n"
     ]
    }
   ],
   "source": [
    "print(tipo_booleano)"
   ]
  },
  {
   "cell_type": "code",
   "execution_count": 7,
   "metadata": {},
   "outputs": [
    {
     "data": {
      "text/plain": [
       "bool"
      ]
     },
     "execution_count": 7,
     "metadata": {},
     "output_type": "execute_result"
    }
   ],
   "source": [
    "type(tipo_booleano)"
   ]
  },
  {
   "cell_type": "markdown",
   "metadata": {},
   "source": [
    "- Tipo float, double ou ponto flutuante"
   ]
  },
  {
   "cell_type": "code",
   "execution_count": 8,
   "metadata": {},
   "outputs": [
    {
     "name": "stdout",
     "output_type": "stream",
     "text": [
      "3.1415\n"
     ]
    }
   ],
   "source": [
    "print(tipo_float)"
   ]
  },
  {
   "cell_type": "code",
   "execution_count": 9,
   "metadata": {},
   "outputs": [
    {
     "data": {
      "text/plain": [
       "float"
      ]
     },
     "execution_count": 9,
     "metadata": {},
     "output_type": "execute_result"
    }
   ],
   "source": [
    "type(tipo_float)"
   ]
  },
  {
   "cell_type": "markdown",
   "metadata": {},
   "source": [
    "## O que é a declaração de uma variável?\n",
    "- O ato de dar um nome e um tipo é chamado de declaração de variável."
   ]
  },
  {
   "cell_type": "markdown",
   "metadata": {},
   "source": [
    "## Por que usar variáveis?\n",
    "- As variáveis são muito importantes para o funcionamento de programas e aplicações dos mais diversos tipos que lidam com cálculos, condições, repetições e qualquer outro dado mutável durante o seu funcionamento."
   ]
  },
  {
   "cell_type": "markdown",
   "metadata": {},
   "source": [
    "## Variáveis em Python são objetos e podemos utilizar deles para fazermos operações:\n",
    "- Por exemplo eu posso somar a variável de nome 'tipo_inteiro' com outro tipo inteiro ou um tipo float e atribuir a outra variável que iremos chamar de 'soma':"
   ]
  },
  {
   "cell_type": "code",
   "execution_count": 12,
   "metadata": {},
   "outputs": [
    {
     "data": {
      "text/plain": [
       "10"
      ]
     },
     "execution_count": 12,
     "metadata": {},
     "output_type": "execute_result"
    }
   ],
   "source": [
    " ### 5 + 5\n",
    "soma = tipo_inteiro + 5\n",
    "soma"
   ]
  },
  {
   "cell_type": "markdown",
   "metadata": {},
   "source": [
    "- Podemos também somar duas variáveis que armazenam os tipos int e float:"
   ]
  },
  {
   "cell_type": "code",
   "execution_count": 15,
   "metadata": {},
   "outputs": [
    {
     "data": {
      "text/plain": [
       "8.1415"
      ]
     },
     "execution_count": 15,
     "metadata": {},
     "output_type": "execute_result"
    }
   ],
   "source": [
    "### 5 + 3.1415\n",
    "soma = tipo_inteiro + tipo_float\n",
    "soma"
   ]
  },
  {
   "cell_type": "markdown",
   "metadata": {},
   "source": [
    "- Perceba que foi alterado o tipo da variável 'soma', pois seu tipo primitivo foi alterado de inteiro para ponto flutuante:"
   ]
  },
  {
   "cell_type": "code",
   "execution_count": 14,
   "metadata": {},
   "outputs": [
    {
     "data": {
      "text/plain": [
       "float"
      ]
     },
     "execution_count": 14,
     "metadata": {},
     "output_type": "execute_result"
    }
   ],
   "source": [
    "type(soma)"
   ]
  },
  {
   "cell_type": "markdown",
   "metadata": {},
   "source": [
    "- Posso também multiplicar uma variável por um tipo int ou float e também por outra variável que está guardando um desses dois tipos:"
   ]
  },
  {
   "cell_type": "code",
   "execution_count": 18,
   "metadata": {},
   "outputs": [],
   "source": [
    "### declaramos que o numero dois foi atribuido \n",
    "### ao nome de variável 'numero_dois'\n",
    "numero_dois = 2"
   ]
  },
  {
   "cell_type": "markdown",
   "metadata": {},
   "source": [
    "- Observer que para representar a multiplicação utilizamos o simbolo de '*'"
   ]
  },
  {
   "cell_type": "code",
   "execution_count": 17,
   "metadata": {},
   "outputs": [
    {
     "data": {
      "text/plain": [
       "16.283"
      ]
     },
     "execution_count": 17,
     "metadata": {},
     "output_type": "execute_result"
    }
   ],
   "source": [
    "### 8.1414 x 2\n",
    "mul =  soma * numero_dois\n",
    "mul"
   ]
  },
  {
   "cell_type": "markdown",
   "metadata": {},
   "source": [
    "- Posso também dividir uma variável por um tipo int ou float e também por outra variável que está guardando um desses dois tipos, porém, nunca posso dividir por 0, isso dará um erro chamado 'division by zero'"
   ]
  },
  {
   "cell_type": "code",
   "execution_count": 20,
   "metadata": {},
   "outputs": [
    {
     "data": {
      "text/plain": [
       "4.07075"
      ]
     },
     "execution_count": 20,
     "metadata": {},
     "output_type": "execute_result"
    }
   ],
   "source": [
    "div = soma / numero_dois\n",
    "div"
   ]
  },
  {
   "cell_type": "markdown",
   "metadata": {},
   "source": [
    "- Observer que para representar a divisão utilizamos o simbolo de '/'"
   ]
  },
  {
   "cell_type": "markdown",
   "metadata": {},
   "source": [
    "- Podemos também concatenar(juntar) duas váriaveis do tipo string utilizando o operador '+':"
   ]
  },
  {
   "cell_type": "code",
   "execution_count": 21,
   "metadata": {},
   "outputs": [
    {
     "data": {
      "text/plain": [
       "'Oi Matheus'"
      ]
     },
     "execution_count": 21,
     "metadata": {},
     "output_type": "execute_result"
    }
   ],
   "source": [
    "string_1 = 'Oi'\n",
    "string_2 = 'Matheus'\n",
    "frase = string_1 + ' ' + string_2\n",
    "frase"
   ]
  },
  {
   "cell_type": "markdown",
   "metadata": {},
   "source": [
    "- Perceba que colocamos um espaço antes de juntar as duas strings(palavras), o python não faz isso.\n",
    "- Esse tipo de operação chamamos de 'syntax sugar', muito conhecido no python, pois tem a finalidade de tornar suas construções mais fáceis de serem lidas e expressas."
   ]
  },
  {
   "cell_type": "markdown",
   "metadata": {},
   "source": [
    "## Conhecendo os metodos dir() e help() e acesso a documentação de cada classe dos objetos"
   ]
  },
  {
   "cell_type": "code",
   "execution_count": 24,
   "metadata": {},
   "outputs": [],
   "source": [
    "# dir(string_1)"
   ]
  },
  {
   "cell_type": "code",
   "execution_count": 25,
   "metadata": {},
   "outputs": [],
   "source": [
    "# help(string_1.upper)"
   ]
  },
  {
   "cell_type": "markdown",
   "metadata": {},
   "source": [
    "## Operadores relacionais:\n",
    "- Operadores relacionais são utilizados para comparar valores.\n",
    "- O resultado de uma expressão relacional é um valor booleano (VERDADEIRO ou FALSO).\n",
    "## - Os operadores relacionais são:\n",
    "- igual, representado por '==';\n",
    "- diferente, representado por '!=';\n",
    "- maior, representado por '>';\n",
    "- menor, representado por '<';\n",
    "- maior ou igual, representado por '>=';\n",
    "- menor ou igual, , representado por '<=';\n"
   ]
  },
  {
   "cell_type": "markdown",
   "metadata": {},
   "source": [
    "### - Os operadores relacionais são muito utilizados em programação, as decisões dos algoritmos geralmente são tomadas nas operações relacionais, ou seja, as decisões baseiam-se em testes do estado (verdadeiro ou falso) das variáveis."
   ]
  },
  {
   "cell_type": "code",
   "execution_count": null,
   "metadata": {},
   "outputs": [],
   "source": []
  }
 ],
 "metadata": {
  "kernelspec": {
   "display_name": "Python 3",
   "language": "python",
   "name": "python3"
  },
  "language_info": {
   "codemirror_mode": {
    "name": "ipython",
    "version": 3
   },
   "file_extension": ".py",
   "mimetype": "text/x-python",
   "name": "python",
   "nbconvert_exporter": "python",
   "pygments_lexer": "ipython3",
   "version": "3.6.9"
  }
 },
 "nbformat": 4,
 "nbformat_minor": 4
}
